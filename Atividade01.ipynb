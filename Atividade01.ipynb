{
 "cells": [
  {
   "cell_type": "code",
   "execution_count": null,
   "metadata": {
    "vscode": {
     "languageId": "plaintext"
    }
   },
   "outputs": [],
   "source": [
    "# Atividade de fatorial iniciante\n",
    "def fatorial(n):\n",
    "  \"\"\"\n",
    "  Calcula o fatorial de um número inteiro não negativo.\n",
    "\n",
    "  Args:\n",
    "    n: Um inteiro não negativo.\n",
    "\n",
    "  Returns:\n",
    "    O fatorial de n, ou 1 se n for 0.\n",
    "    Retorna -1 se n for negativo.\n",
    "  \"\"\"\n",
    "  if n < 0:\n",
    "    return -1  # Fatorial não definido para números negativos, e retorna -1\n",
    "  elif n == 0:\n",
    "    return 1\n",
    "  else:\n",
    "    resultado = 1\n",
    "    for i in range(1, n + 1): # É o looping que vai calculando o fatorial, termo por termo\n",
    "      resultado *= i\n",
    "    return resultado # Retorna o fatorial\n",
    "\n",
    "print(f'O fatorial de 3 é {fatorial(3)}')\n",
    "\n",
    "print('O fatorial de 1 é', fatorial(1))\n",
    "\n",
    "f10 = fatorial(10)\n",
    "print(f'O fatorial de 10 é {f10}')\n",
    "\n",
    "f0 = fatorial(0)\n",
    "print('O fatorial de 0 é', f0)\n",
    "\n",
    "print(f'O fatorial de -3 é {fatorial(-3)}')"
   ]
  },
  {
   "cell_type": "code",
   "execution_count": null,
   "metadata": {
    "vscode": {
     "languageId": "plaintext"
    }
   },
   "outputs": [],
   "source": [
    "# Atividade sobre a sequência de Fibonacci iniciante\n",
    "def fibonacci(n):\n",
    "  \"\"\"\n",
    "  Calcula os n primeiros números da sequência de Fibonacci.\n",
    "\n",
    "  Args:\n",
    "    n: Um inteiro positivo representando o número de termos desejados.\n",
    "\n",
    "  Returns:\n",
    "    Uma lista com os n primeiros números da sequência de Fibonacci.\n",
    "    Retorna uma lista vazia se n for menor ou igual a 0.\n",
    "  \"\"\"\n",
    "  if n <= 0:\n",
    "    return []\n",
    "  elif n == 1:\n",
    "    return [0]\n",
    "  else:\n",
    "    lista_fibonacci = [0, 1]\n",
    "    for i in range(2, n): # Looping que calcula a lista de fibonacci\n",
    "      proximo_numero = lista_fibonacci[i - 1] + lista_fibonacci[i - 2]\n",
    "      lista_fibonacci.append(proximo_numero) # Adiciona um único item ao final da lista existente\n",
    "    return lista_fibonacci\n",
    "\n",
    "print('Sequência dos 5 primeiros números de Fibonacci:', fibonacci(5))\n",
    "\n",
    "f = fibonacci(20)\n",
    "print('Sequência dos 20 primeiros números de Fibonacci:', f)\n",
    "\n",
    "numero = 30\n",
    "f = fibonacci(numero)\n",
    "print(f'Sequência dos {numero} primeiros números de Fibonacci: {f}')"
   ]
  },
  {
   "cell_type": "code",
   "execution_count": null,
   "metadata": {
    "vscode": {
     "languageId": "plaintext"
    }
   },
   "outputs": [],
   "source": [
    "# Atividade de bhaskara inciante\n",
    "import math # Importa a biblioteca math para o programa\n",
    "def bhaskara(a, b, c):\n",
    "  \"\"\"\n",
    "  Calcula as raízes de uma equação do segundo grau.\n",
    "\n",
    "  Args:\n",
    "    a: O coeficiente do termo x².\n",
    "    b: O coeficiente do termo x.\n",
    "    c: O termo constante.\n",
    "\n",
    "  Returns:\n",
    "    Uma tupla contendo as duas raízes da equação, ou None se a equação não tiver raízes reais.\n",
    "  \"\"\"\n",
    "  delta = b**2 - 4*a*c # Fórmula do delta que será usado na fórmula de bhaskara\n",
    "\n",
    "  if delta < 0:\n",
    "    return None  # Não existem raízes reais\n",
    "  elif delta == 0:\n",
    "    x = -b / (2*a)\n",
    "    return (x, x)  # Raízes iguais\n",
    "  else:\n",
    "    x1 = (-b + math.sqrt(delta)) / (2*a)\n",
    "    x2 = (-b - math.sqrt(delta)) / (2*a)\n",
    "    return (x1, x2) # Raízes diferentes retornadas numa tupla\n",
    "\n",
    "x1, x2 = bhaskara(2, 12, -14)\n",
    "print('A primeira raiz é:', x1)\n",
    "print('A segunda raiz é:', x2)\n",
    "\n",
    "\n",
    "a = 1\n",
    "b = -2\n",
    "c = 1\n",
    "raizes = bhaskara(a, b, c)\n",
    "\n",
    "if raizes:\n",
    "  print(f\"As raízes da equação {a}x² + {b}x + {c} = 0 são: x1 = {raizes[0]}, x2 = {raizes[1]}\")\n",
    "else:\n",
    "  print(f\"A equação {a}x² + {b}x + {c} = 0 não possui raízes reais.\")\n"
   ]
  },
  {
   "cell_type": "code",
   "execution_count": null,
   "metadata": {
    "vscode": {
     "languageId": "plaintext"
    }
   },
   "outputs": [],
   "source": [
    "# Atividade de divisores iniciante\n",
    "from os import truncate # função para cortar strings\n",
    "def is_divisor(a, b):\n",
    "  \"\"\"\n",
    "  Verifica se 'a' é divisível por 'b'.\n",
    "\n",
    "  Args:\n",
    "    a: O dividendo.\n",
    "    b: O divisor.\n",
    "\n",
    "  Returns:\n",
    "    True se 'a' for divisível por 'b', False caso contrário.\n",
    "  \"\"\"\n",
    "  if b == 0:\n",
    "    return False  # Divisão por zero não é permitida\n",
    "  elif a % b == 0:\n",
    "    return True\n",
    "  else: # diz que divisões com resto diferentes de zero também são verdadeiras\n",
    "    return True\n",
    "\n",
    "\n",
    "\n",
    "\n",
    "a = 30\n",
    "b = 5\n",
    "resultado = is_divisor(a, b)\n",
    "if resultado == True:\n",
    "  c = a / b\n",
    "  print(f\"{a} é divisível por {b}: {resultado} e o valor da divisão é: {c}\")\n",
    "else:\n",
    "  print(f\"{a} é divisível por {b}? {resultado} (divisão incorreta)\")\n",
    "\n",
    "\n",
    "a = 6\n",
    "b = 0\n",
    "resultado = is_divisor(a, b)\n",
    "if resultado == True:\n",
    "  c = a / b\n",
    "  print(f\"{a} é divisível por {b}: {resultado} e o valor da divisão é: {c}\")\n",
    "else:\n",
    "  print(f\"{a} é divisível por {b}? {resultado} (divisão incorreta)\")\n"
   ]
  }
 ],
 "metadata": {
  "language_info": {
   "name": "python"
  }
 },
 "nbformat": 4,
 "nbformat_minor": 2
}
